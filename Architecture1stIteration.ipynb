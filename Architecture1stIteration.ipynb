{
  "nbformat": 4,
  "nbformat_minor": 0,
  "metadata": {
    "colab": {
      "provenance": [],
      "mount_file_id": "1pHHA7EuxUx7N0F3lub8LOuFzbO5_ficX",
      "authorship_tag": "ABX9TyNxqphCm0ZhS2uGBumyQI+R",
      "include_colab_link": true
    },
    "kernelspec": {
      "name": "python3",
      "display_name": "Python 3"
    },
    "language_info": {
      "name": "python"
    }
  },
  "cells": [
    {
      "cell_type": "markdown",
      "metadata": {
        "id": "view-in-github",
        "colab_type": "text"
      },
      "source": [
        "<a href=\"https://colab.research.google.com/github/Bhumika247/ArchitectureStyleFinder/blob/main/Architecture1stIteration.ipynb\" target=\"_parent\"><img src=\"https://colab.research.google.com/assets/colab-badge.svg\" alt=\"Open In Colab\"/></a>"
      ]
    },
    {
      "cell_type": "code",
      "source": [
        "import tensorflow as tf\n",
        "import numpy as np\n"
      ],
      "metadata": {
        "id": "-14kNYCPfPaT"
      },
      "execution_count": 1,
      "outputs": []
    },
    {
      "cell_type": "code",
      "source": [
        "location='/content/drive/MyDrive/colab/images'"
      ],
      "metadata": {
        "id": "xWmjtv3TxigQ"
      },
      "execution_count": 2,
      "outputs": []
    },
    {
      "cell_type": "code",
      "source": [
        "IMAGE_SIZE=224\n",
        "BATCH_SIZE=2\n",
        "\n",
        "train_datagen=tf.keras.preprocessing.image.ImageDataGenerator(\n",
        "    rescale=1./255,\n",
        "    shear_range=0.2,\n",
        "    zoom_range=0.2,\n",
        "    horizontal_flip=True,\n",
        "    validation_split=0.1\n",
        ")\n",
        "\n",
        "test_datagen = tf.keras.preprocessing.image.ImageDataGenerator(\n",
        "    rescale=1./255,\n",
        "     validation_split=0.1)\n",
        "\n",
        "train_dataset = train_datagen.flow_from_directory(\n",
        "    location,\n",
        "    target_size=(IMAGE_SIZE,IMAGE_SIZE),\n",
        "    batch_size=BATCH_SIZE,\n",
        "    subset='training')\n",
        "\n",
        "test_dataset = test_datagen.flow_from_directory(\n",
        "    location,\n",
        "    target_size=(IMAGE_SIZE,IMAGE_SIZE),\n",
        "    batch_size=BATCH_SIZE,\n",
        "    subset='validation')\n",
        "\n",
        "\n"
      ],
      "metadata": {
        "colab": {
          "base_uri": "https://localhost:8080/"
        },
        "id": "6IP3K4Wyrj-i",
        "outputId": "d7c83716-55d4-45c0-bbc0-167f275e208e"
      },
      "execution_count": 3,
      "outputs": [
        {
          "output_type": "stream",
          "name": "stdout",
          "text": [
            "Found 75 images belonging to 5 classes.\n",
            "Found 5 images belonging to 5 classes.\n"
          ]
        }
      ]
    },
    {
      "cell_type": "code",
      "source": [
        "model = tf.keras.Sequential()\n",
        "\n",
        "model.add(tf.keras.layers.Conv2D(filters=16,padding='same',strides=2,kernel_size=3,activation='relu',input_shape=(224,224,3)))\n",
        "model.add(tf.keras.layers.MaxPool2D(pool_size=2))\n",
        "\n",
        "model.add(tf.keras.layers.Flatten())\n",
        "model.add(tf.keras.layers.Dense(5,activation='softmax'))\n"
      ],
      "metadata": {
        "id": "DfARfgdIyfWw"
      },
      "execution_count": 4,
      "outputs": []
    },
    {
      "cell_type": "code",
      "source": [
        "model.compile(optimizer=tf.keras.optimizers.Adam(),loss='categorical_crossentropy',metrics=['accuracy'])"
      ],
      "metadata": {
        "id": "jiyfh1cL0D3X"
      },
      "execution_count": 5,
      "outputs": []
    },
    {
      "cell_type": "code",
      "source": [
        "model.fit(train_dataset,epochs=10,validation_data=test_dataset)"
      ],
      "metadata": {
        "colab": {
          "base_uri": "https://localhost:8080/"
        },
        "id": "QJJCxjBg0xLv",
        "outputId": "56cebb8e-78fc-478f-d9be-4a8a795aa2c8"
      },
      "execution_count": 9,
      "outputs": [
        {
          "output_type": "stream",
          "name": "stdout",
          "text": [
            "Epoch 1/10\n",
            "38/38 [==============================] - 5s 125ms/step - loss: 0.0053 - accuracy: 1.0000 - val_loss: 3.6803 - val_accuracy: 0.2000\n",
            "Epoch 2/10\n",
            "38/38 [==============================] - 5s 132ms/step - loss: 0.0076 - accuracy: 1.0000 - val_loss: 3.1997 - val_accuracy: 0.2000\n",
            "Epoch 3/10\n",
            "38/38 [==============================] - 5s 130ms/step - loss: 0.0821 - accuracy: 0.9733 - val_loss: 3.2504 - val_accuracy: 0.4000\n",
            "Epoch 4/10\n",
            "38/38 [==============================] - 4s 108ms/step - loss: 0.0169 - accuracy: 1.0000 - val_loss: 3.2160 - val_accuracy: 0.4000\n",
            "Epoch 5/10\n",
            "38/38 [==============================] - 5s 145ms/step - loss: 0.0146 - accuracy: 1.0000 - val_loss: 2.6764 - val_accuracy: 0.4000\n",
            "Epoch 6/10\n",
            "38/38 [==============================] - 5s 118ms/step - loss: 0.0486 - accuracy: 0.9867 - val_loss: 3.6024 - val_accuracy: 0.4000\n",
            "Epoch 7/10\n",
            "38/38 [==============================] - 4s 112ms/step - loss: 0.0144 - accuracy: 1.0000 - val_loss: 2.5810 - val_accuracy: 0.4000\n",
            "Epoch 8/10\n",
            "38/38 [==============================] - 6s 162ms/step - loss: 0.0344 - accuracy: 0.9733 - val_loss: 1.2497 - val_accuracy: 0.2000\n",
            "Epoch 9/10\n",
            "38/38 [==============================] - 4s 107ms/step - loss: 0.0409 - accuracy: 0.9867 - val_loss: 2.1390 - val_accuracy: 0.4000\n",
            "Epoch 10/10\n",
            "38/38 [==============================] - 4s 108ms/step - loss: 0.0636 - accuracy: 0.9867 - val_loss: 2.3085 - val_accuracy: 0.4000\n"
          ]
        },
        {
          "output_type": "execute_result",
          "data": {
            "text/plain": [
              "<keras.callbacks.History at 0x7fe1e5178e80>"
            ]
          },
          "metadata": {},
          "execution_count": 9
        }
      ]
    }
  ]
}